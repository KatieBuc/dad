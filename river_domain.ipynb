{
 "cells": [
  {
   "attachments": {},
   "cell_type": "markdown",
   "metadata": {},
   "source": [
    "# River as a shapefile (raw format)"
   ]
  },
  {
   "cell_type": "code",
   "execution_count": 1,
   "metadata": {},
   "outputs": [
    {
     "data": {
      "text/html": [
       "<div>\n",
       "<style scoped>\n",
       "    .dataframe tbody tr th:only-of-type {\n",
       "        vertical-align: middle;\n",
       "    }\n",
       "\n",
       "    .dataframe tbody tr th {\n",
       "        vertical-align: top;\n",
       "    }\n",
       "\n",
       "    .dataframe thead th {\n",
       "        text-align: right;\n",
       "    }\n",
       "</style>\n",
       "<table border=\"1\" class=\"dataframe\">\n",
       "  <thead>\n",
       "    <tr style=\"text-align: right;\">\n",
       "      <th></th>\n",
       "      <th>rid</th>\n",
       "      <th>netID</th>\n",
       "      <th>upDist</th>\n",
       "      <th>shreve</th>\n",
       "      <th>Length</th>\n",
       "      <th>addfunccol</th>\n",
       "      <th>geometry</th>\n",
       "    </tr>\n",
       "  </thead>\n",
       "  <tbody>\n",
       "    <tr>\n",
       "      <th>0</th>\n",
       "      <td>1</td>\n",
       "      <td>1</td>\n",
       "      <td>1.000000</td>\n",
       "      <td>4.0</td>\n",
       "      <td>1.000000</td>\n",
       "      <td>1.00</td>\n",
       "      <td>LINESTRING (0.00000 1.00000, 0.00000 0.00000)</td>\n",
       "    </tr>\n",
       "    <tr>\n",
       "      <th>1</th>\n",
       "      <td>2</td>\n",
       "      <td>1</td>\n",
       "      <td>1.960106</td>\n",
       "      <td>1.0</td>\n",
       "      <td>0.960106</td>\n",
       "      <td>0.25</td>\n",
       "      <td>LINESTRING (0.42592 1.86046, 0.00000 1.00000)</td>\n",
       "    </tr>\n",
       "    <tr>\n",
       "      <th>2</th>\n",
       "      <td>3</td>\n",
       "      <td>1</td>\n",
       "      <td>1.980141</td>\n",
       "      <td>3.0</td>\n",
       "      <td>0.980141</td>\n",
       "      <td>0.75</td>\n",
       "      <td>LINESTRING (0.16583 1.96601, 0.00000 1.00000)</td>\n",
       "    </tr>\n",
       "    <tr>\n",
       "      <th>3</th>\n",
       "      <td>4</td>\n",
       "      <td>1</td>\n",
       "      <td>3.032648</td>\n",
       "      <td>1.0</td>\n",
       "      <td>1.052508</td>\n",
       "      <td>0.25</td>\n",
       "      <td>LINESTRING (0.05008 3.01213, 0.16583 1.96601)</td>\n",
       "    </tr>\n",
       "    <tr>\n",
       "      <th>4</th>\n",
       "      <td>5</td>\n",
       "      <td>1</td>\n",
       "      <td>3.072281</td>\n",
       "      <td>2.0</td>\n",
       "      <td>1.092141</td>\n",
       "      <td>0.50</td>\n",
       "      <td>LINESTRING (0.75061 2.88840, 0.16583 1.96601)</td>\n",
       "    </tr>\n",
       "  </tbody>\n",
       "</table>\n",
       "</div>"
      ],
      "text/plain": [
       "   rid netID    upDist  shreve    Length  addfunccol  \\\n",
       "0    1     1  1.000000     4.0  1.000000        1.00   \n",
       "1    2     1  1.960106     1.0  0.960106        0.25   \n",
       "2    3     1  1.980141     3.0  0.980141        0.75   \n",
       "3    4     1  3.032648     1.0  1.052508        0.25   \n",
       "4    5     1  3.072281     2.0  1.092141        0.50   \n",
       "\n",
       "                                        geometry  \n",
       "0  LINESTRING (0.00000 1.00000, 0.00000 0.00000)  \n",
       "1  LINESTRING (0.42592 1.86046, 0.00000 1.00000)  \n",
       "2  LINESTRING (0.16583 1.96601, 0.00000 1.00000)  \n",
       "3  LINESTRING (0.05008 3.01213, 0.16583 1.96601)  \n",
       "4  LINESTRING (0.75061 2.88840, 0.16583 1.96601)  "
      ]
     },
     "execution_count": 1,
     "metadata": {},
     "output_type": "execute_result"
    }
   ],
   "source": [
    "import matplotlib.pyplot as plt\n",
    "import geopandas as gpd\n",
    "\n",
    "shapefile = gpd.read_file(\"edges.shp\")\n",
    "shapefile[\"rid\"] = shapefile[\"rid\"].astype(int)\n",
    "shapefile.head()"
   ]
  },
  {
   "attachments": {},
   "cell_type": "markdown",
   "metadata": {},
   "source": [
    "rid - unique identifier for river segment\\\n",
    "netID - river network ID, when dealing with multiple river outlets\\\n",
    "upDist - distance upstream from outlet (from the most upstream point on line)\\\n",
    "shreve - segment weighting based on Shreve's order\\\n",
    "addfunccol - additive function column, normalised shreve's order (used for weighting segments, a proxy for water volume)"
   ]
  },
  {
   "cell_type": "code",
   "execution_count": 2,
   "metadata": {},
   "outputs": [
    {
     "data": {
      "image/png": "[encoded data removed]",
      "text/plain": [
       "<Figure size 640x480 with 1 Axes>"
      ]
     },
     "metadata": {},
     "output_type": "display_data"
    }
   ],
   "source": [
    "# edges (rid's)\n",
    "ax = shapefile.plot()\n",
    "shapefile.apply(\n",
    "    lambda x: ax.annotate(text=x[\"rid\"], xy=x.geometry.centroid.coords[0], ha=\"center\"),\n",
    "    axis=1,\n",
    ")\n",
    "plt.show()"
   ]
  },
  {
   "cell_type": "code",
   "execution_count": 3,
   "metadata": {},
   "outputs": [],
   "source": [
    "# extract point information from shapely object: type(shapefile.geometry[0])\n",
    "shapefile[\"points\"] = shapefile.apply(lambda l: list(l[\"geometry\"].coords), axis=1)\n",
    "shapefile[[\"points_from\", \"points_to\"]] = shapefile[\"points\"].to_list()\n",
    "\n",
    "# create a unique identifier for the start/end points of an edge\n",
    "unique_locations = sorted(\n",
    "    list(set([item for sublist in shapefile.points.to_list() for item in sublist]))\n",
    ")\n",
    "PID_GPT = {i: unique_locations[i] for i in range(len(unique_locations))}\n",
    "GPT_PID = {v: k for k, v in PID_GPT.items()}\n",
    "\n",
    "# map from geographic point, GPT, to unique node identifier, PID\n",
    "shapefile[\"pid_from\"] = shapefile[\"points_from\"].apply(lambda x: GPT_PID[x])\n",
    "shapefile[\"pid_to\"] = shapefile[\"points_to\"].apply(lambda x: GPT_PID[x])"
   ]
  },
  {
   "cell_type": "code",
   "execution_count": 4,
   "metadata": {},
   "outputs": [
    {
     "data": {
      "image/png": "[encoded data removed]",
      "text/plain": [
       "<Figure size 640x480 with 1 Axes>"
      ]
     },
     "metadata": {},
     "output_type": "display_data"
    }
   ],
   "source": [
    "# node labels (pid's)\n",
    "ax = shapefile.plot()\n",
    "shapefile.apply(\n",
    "    lambda x: ax.annotate(text=x[\"pid_from\"], xy=x.points_from, ha=\"center\"), axis=1\n",
    ")\n",
    "shapefile.apply(\n",
    "    lambda x: ax.annotate(text=x[\"pid_to\"], xy=x.points_to, ha=\"center\"), axis=1\n",
    ")\n",
    "plt.show()"
   ]
  },
  {
   "cell_type": "code",
   "execution_count": 5,
   "metadata": {},
   "outputs": [],
   "source": [
    "# neither of these functions are necessary, now I realise\n",
    "def get_upstream_rids(row, df):\n",
    "    upstream_rids = []\n",
    "    up = df[df[\"pid_to\"] == row[\"pid_from\"]]\n",
    "\n",
    "    while len(up) > 0:\n",
    "        new_pids = list(up[\"pid_from\"])\n",
    "        upstream_rids.extend(up[\"rid\"])\n",
    "        up = df[df[\"pid_to\"].isin(new_pids)]\n",
    "\n",
    "    return upstream_rids\n",
    "\n",
    "\n",
    "def calculate_on_left(df):\n",
    "    grouped = df.groupby(\"pid_to\")\n",
    "    min_pid_from = grouped[\"pid_from\"].transform(\"min\")\n",
    "    df[\"on_left\"] = min_pid_from == df[\"pid_from\"]\n",
    "    return df"
   ]
  },
  {
   "cell_type": "code",
   "execution_count": 6,
   "metadata": {},
   "outputs": [],
   "source": [
    "df = shapefile[\n",
    "    [\"rid\", \"upDist\", \"shreve\", \"Length\", \"addfunccol\", \"pid_from\", \"pid_to\"]\n",
    "].copy()\n",
    "\n",
    "df[\"upstream_rids\"] = df.apply(lambda x: get_upstream_rids(x, df), axis=1)\n",
    "df = calculate_on_left(df)"
   ]
  },
  {
   "attachments": {},
   "cell_type": "markdown",
   "metadata": {},
   "source": [
    "## River domain representation (continuous)"
   ]
  },
  {
   "cell_type": "code",
   "execution_count": 7,
   "metadata": {},
   "outputs": [],
   "source": [
    "pid = 1  # the outlet node\n",
    "df.loc[df[\"pid_to\"] == pid, [\"parent_x_offset\"]] = 0\n",
    "df.loc[df[\"pid_to\"] == pid, [\"parent_width\"]] = 1\n",
    "\n",
    "from_pids_line_up = []\n",
    "finished = False\n",
    "\n",
    "while not finished:\n",
    "    # of length either 1 or 2\n",
    "    if len(df[df[\"pid_from\"] == pid]) > 0:\n",
    "        df.loc[df[\"pid_to\"] == pid, \"parent_x_offset\"] = float(\n",
    "            df[df[\"pid_from\"] == pid][\"x_offset\"].iloc[0]\n",
    "        )\n",
    "        df.loc[df[\"pid_to\"] == pid, \"parent_width\"] = float(\n",
    "            df[df[\"pid_from\"] == pid][\"width\"].iloc[0]\n",
    "        )\n",
    "\n",
    "    layer = df[df[\"pid_to\"] == pid].copy()\n",
    "    layer[\"pct\"] = layer[\"addfunccol\"] / layer[\"addfunccol\"].sum()\n",
    "    from_pids = layer[\"pid_from\"]\n",
    "\n",
    "    if len(from_pids) == 0:\n",
    "        finished = len(from_pids_line_up) == 0\n",
    "        if not finished:\n",
    "            pid = from_pids_line_up.pop(0)\n",
    "        continue\n",
    "\n",
    "    # add percentage share of addfunccol at each branching confluence\n",
    "    df.loc[df[\"pid_from\"].isin(from_pids), [\"width\"]] = (\n",
    "        layer[\"parent_width\"] * layer[\"pct\"]\n",
    "    )\n",
    "\n",
    "    # for the branch on left, then right\n",
    "    df.loc[df[\"pid_from\"] == min(from_pids), [\"x_offset\"]] = layer[\"parent_x_offset\"]\n",
    "\n",
    "    if len(from_pids) == 2:\n",
    "        df.loc[df[\"pid_from\"] == max(from_pids), [\"x_offset\"]] = float(\n",
    "            layer[\"parent_x_offset\"].iloc[0]\n",
    "        ) + float(df.loc[df[\"pid_from\"] == min(from_pids), [\"width\"]].squeeze())\n",
    "\n",
    "    # get next pid's\n",
    "    from_pids_line_up.extend(list(from_pids))\n",
    "    finished = len(from_pids_line_up) == 0\n",
    "    pid = from_pids_line_up.pop(0)"
   ]
  },
  {
   "cell_type": "code",
   "execution_count": 8,
   "metadata": {},
   "outputs": [
    {
     "data": {
      "image/png": "[encoded data removed]",
      "text/plain": [
       "<Figure size 640x480 with 1 Axes>"
      ]
     },
     "metadata": {},
     "output_type": "display_data"
    }
   ],
   "source": [
    "# plot bar\n",
    "import matplotlib.pyplot as plt\n",
    "\n",
    "fig, ax = plt.subplots()\n",
    "\n",
    "for i, row in df.iterrows():\n",
    "    ax.bar(\n",
    "        row[\"x_offset\"],\n",
    "        height=row[\"Length\"],\n",
    "        bottom=row[\"upDist\"] - row[\"Length\"],\n",
    "        width=row[\"addfunccol\"],\n",
    "        align=\"edge\",\n",
    "        color=\"skyblue\",\n",
    "        alpha=0.5,\n",
    "        edgecolor=\"black\",\n",
    "    )\n",
    "\n",
    "plt.show()"
   ]
  },
  {
   "cell_type": "code",
   "execution_count": 9,
   "metadata": {},
   "outputs": [
    {
     "data": {
      "text/html": [
       "<div>\n",
       "<style scoped>\n",
       "    .dataframe tbody tr th:only-of-type {\n",
       "        vertical-align: middle;\n",
       "    }\n",
       "\n",
       "    .dataframe tbody tr th {\n",
       "        vertical-align: top;\n",
       "    }\n",
       "\n",
       "    .dataframe thead th {\n",
       "        text-align: right;\n",
       "    }\n",
       "</style>\n",
       "<table border=\"1\" class=\"dataframe\">\n",
       "  <thead>\n",
       "    <tr style=\"text-align: right;\">\n",
       "      <th></th>\n",
       "      <th>rid</th>\n",
       "      <th>upDist</th>\n",
       "      <th>shreve</th>\n",
       "      <th>Length</th>\n",
       "      <th>addfunccol</th>\n",
       "      <th>pid_from</th>\n",
       "      <th>pid_to</th>\n",
       "      <th>upstream_rids</th>\n",
       "      <th>on_left</th>\n",
       "      <th>parent_x_offset</th>\n",
       "      <th>parent_width</th>\n",
       "      <th>width</th>\n",
       "      <th>x_offset</th>\n",
       "    </tr>\n",
       "  </thead>\n",
       "  <tbody>\n",
       "    <tr>\n",
       "      <th>0</th>\n",
       "      <td>1</td>\n",
       "      <td>1.000000</td>\n",
       "      <td>4.0</td>\n",
       "      <td>1.000000</td>\n",
       "      <td>1.00</td>\n",
       "      <td>2</td>\n",
       "      <td>1</td>\n",
       "      <td>[2, 3, 4, 5, 6, 7, 8]</td>\n",
       "      <td>True</td>\n",
       "      <td>0.00</td>\n",
       "      <td>1.00</td>\n",
       "      <td>1.00</td>\n",
       "      <td>0.00</td>\n",
       "    </tr>\n",
       "    <tr>\n",
       "      <th>1</th>\n",
       "      <td>2</td>\n",
       "      <td>1.960106</td>\n",
       "      <td>1.0</td>\n",
       "      <td>0.960106</td>\n",
       "      <td>0.25</td>\n",
       "      <td>5</td>\n",
       "      <td>2</td>\n",
       "      <td>[]</td>\n",
       "      <td>False</td>\n",
       "      <td>0.00</td>\n",
       "      <td>1.00</td>\n",
       "      <td>0.25</td>\n",
       "      <td>0.75</td>\n",
       "    </tr>\n",
       "    <tr>\n",
       "      <th>2</th>\n",
       "      <td>3</td>\n",
       "      <td>1.980141</td>\n",
       "      <td>3.0</td>\n",
       "      <td>0.980141</td>\n",
       "      <td>0.75</td>\n",
       "      <td>4</td>\n",
       "      <td>2</td>\n",
       "      <td>[4, 5, 6, 7, 8]</td>\n",
       "      <td>True</td>\n",
       "      <td>0.00</td>\n",
       "      <td>1.00</td>\n",
       "      <td>0.75</td>\n",
       "      <td>0.00</td>\n",
       "    </tr>\n",
       "    <tr>\n",
       "      <th>3</th>\n",
       "      <td>4</td>\n",
       "      <td>3.032648</td>\n",
       "      <td>1.0</td>\n",
       "      <td>1.052508</td>\n",
       "      <td>0.25</td>\n",
       "      <td>3</td>\n",
       "      <td>4</td>\n",
       "      <td>[6]</td>\n",
       "      <td>True</td>\n",
       "      <td>0.00</td>\n",
       "      <td>0.75</td>\n",
       "      <td>0.25</td>\n",
       "      <td>0.00</td>\n",
       "    </tr>\n",
       "    <tr>\n",
       "      <th>4</th>\n",
       "      <td>5</td>\n",
       "      <td>3.072281</td>\n",
       "      <td>2.0</td>\n",
       "      <td>1.092141</td>\n",
       "      <td>0.50</td>\n",
       "      <td>7</td>\n",
       "      <td>4</td>\n",
       "      <td>[7, 8]</td>\n",
       "      <td>False</td>\n",
       "      <td>0.00</td>\n",
       "      <td>0.75</td>\n",
       "      <td>0.50</td>\n",
       "      <td>0.25</td>\n",
       "    </tr>\n",
       "    <tr>\n",
       "      <th>5</th>\n",
       "      <td>6</td>\n",
       "      <td>3.948602</td>\n",
       "      <td>1.0</td>\n",
       "      <td>0.915953</td>\n",
       "      <td>0.25</td>\n",
       "      <td>0</td>\n",
       "      <td>3</td>\n",
       "      <td>[]</td>\n",
       "      <td>True</td>\n",
       "      <td>0.00</td>\n",
       "      <td>0.25</td>\n",
       "      <td>0.25</td>\n",
       "      <td>0.00</td>\n",
       "    </tr>\n",
       "    <tr>\n",
       "      <th>6</th>\n",
       "      <td>7</td>\n",
       "      <td>4.044051</td>\n",
       "      <td>1.0</td>\n",
       "      <td>0.971769</td>\n",
       "      <td>0.25</td>\n",
       "      <td>6</td>\n",
       "      <td>7</td>\n",
       "      <td>[]</td>\n",
       "      <td>True</td>\n",
       "      <td>0.25</td>\n",
       "      <td>0.50</td>\n",
       "      <td>0.25</td>\n",
       "      <td>0.25</td>\n",
       "    </tr>\n",
       "    <tr>\n",
       "      <th>7</th>\n",
       "      <td>8</td>\n",
       "      <td>3.972570</td>\n",
       "      <td>1.0</td>\n",
       "      <td>0.900289</td>\n",
       "      <td>0.25</td>\n",
       "      <td>8</td>\n",
       "      <td>7</td>\n",
       "      <td>[]</td>\n",
       "      <td>False</td>\n",
       "      <td>0.25</td>\n",
       "      <td>0.50</td>\n",
       "      <td>0.25</td>\n",
       "      <td>0.50</td>\n",
       "    </tr>\n",
       "  </tbody>\n",
       "</table>\n",
       "</div>"
      ],
      "text/plain": [
       "   rid    upDist  shreve    Length  addfunccol  pid_from  pid_to  \\\n",
       "0    1  1.000000     4.0  1.000000        1.00         2       1   \n",
       "1    2  1.960106     1.0  0.960106        0.25         5       2   \n",
       "2    3  1.980141     3.0  0.980141        0.75         4       2   \n",
       "3    4  3.032648     1.0  1.052508        0.25         3       4   \n",
       "4    5  3.072281     2.0  1.092141        0.50         7       4   \n",
       "5    6  3.948602     1.0  0.915953        0.25         0       3   \n",
       "6    7  4.044051     1.0  0.971769        0.25         6       7   \n",
       "7    8  3.972570     1.0  0.900289        0.25         8       7   \n",
       "\n",
       "           upstream_rids  on_left  parent_x_offset  parent_width  width  \\\n",
       "0  [2, 3, 4, 5, 6, 7, 8]     True             0.00          1.00   1.00   \n",
       "1                     []    False             0.00          1.00   0.25   \n",
       "2        [4, 5, 6, 7, 8]     True             0.00          1.00   0.75   \n",
       "3                    [6]     True             0.00          0.75   0.25   \n",
       "4                 [7, 8]    False             0.00          0.75   0.50   \n",
       "5                     []     True             0.00          0.25   0.25   \n",
       "6                     []     True             0.25          0.50   0.25   \n",
       "7                     []    False             0.25          0.50   0.25   \n",
       "\n",
       "   x_offset  \n",
       "0      0.00  \n",
       "1      0.75  \n",
       "2      0.00  \n",
       "3      0.00  \n",
       "4      0.25  \n",
       "5      0.00  \n",
       "6      0.25  \n",
       "7      0.50  "
      ]
     },
     "execution_count": 9,
     "metadata": {},
     "output_type": "execute_result"
    }
   ],
   "source": [
    "df"
   ]
  },
  {
   "cell_type": "code",
   "execution_count": 10,
   "metadata": {},
   "outputs": [],
   "source": [
    "# TODO: minus epsilon from side edges"
   ]
  },
  {
   "attachments": {},
   "cell_type": "markdown",
   "metadata": {},
   "source": [
    "##### River domain representation (as a shapely.Polygon object)"
   ]
  },
  {
   "cell_type": "code",
   "execution_count": 11,
   "metadata": {},
   "outputs": [
    {
     "data": {
      "image/png": "[encoded data removed]",
      "text/plain": [
       "<Figure size 576x432 with 1 Axes>"
      ]
     },
     "metadata": {},
     "output_type": "display_data"
    }
   ],
   "source": [
    "# create high-coverage continous domain representation\n",
    "from shapely.geometry import Polygon\n",
    "from shapely.plotting import plot_polygon, plot_points\n",
    "\n",
    "fig = plt.figure(1, dpi=90)\n",
    "\n",
    "# 1: valid polygon\n",
    "ax = fig.add_subplot()\n",
    "\n",
    "ext = [(0, 0), (0, 2), (2, 2), (2, 0), (0, 0)]\n",
    "int = [(0, 2), (0, 1.75), (1.75, 1.75), (2, 2), (0, 2)]\n",
    "polygon = Polygon(ext, [int])\n",
    "\n",
    "plot_polygon(polygon, ax=ax, add_points=False, color=\"b\")\n",
    "plt.show()"
   ]
  },
  {
   "cell_type": "code",
   "execution_count": 12,
   "metadata": {},
   "outputs": [
    {
     "data": {
      "text/plain": [
       "12.353553390593273"
      ]
     },
     "execution_count": 12,
     "metadata": {},
     "output_type": "execute_result"
    }
   ],
   "source": [
    "polygon.length"
   ]
  },
  {
   "cell_type": "code",
   "execution_count": 13,
   "metadata": {},
   "outputs": [
    {
     "data": {
      "text/plain": [
       "[<LINEARRING (0 2, 0 1.75, 1.75 1.75, 2 2, 0 2)>]"
      ]
     },
     "execution_count": 13,
     "metadata": {},
     "output_type": "execute_result"
    }
   ],
   "source": [
    "list(polygon.interiors)"
   ]
  },
  {
   "cell_type": "code",
   "execution_count": 14,
   "metadata": {},
   "outputs": [],
   "source": [
    "# TODO: figure out series of points that trace the boundary of this shape"
   ]
  },
  {
   "attachments": {},
   "cell_type": "markdown",
   "metadata": {},
   "source": [
    "## River as graph (NetworkX)"
   ]
  },
  {
   "cell_type": "code",
   "execution_count": 15,
   "metadata": {},
   "outputs": [
    {
     "name": "stderr",
     "output_type": "stream",
     "text": [
      "C:\\Users\\n10907700\\AppData\\Local\\Temp\\ipykernel_23724\\1569939559.py:11: DeprecationWarning: `alltrue` is deprecated as of NumPy 1.25.0, and will be removed in NumPy 2.0. Please use `all` instead.\n",
      "  nx.draw_networkx_edges(\n"
     ]
    },
    {
     "data": {
      "image/png": "[encoded data removed]",
      "text/plain": [
       "<Figure size 640x480 with 1 Axes>"
      ]
     },
     "metadata": {},
     "output_type": "display_data"
    }
   ],
   "source": [
    "import networkx as nx\n",
    "\n",
    "# encode as networkx object and plot\n",
    "G = nx.DiGraph()\n",
    "G.add_weighted_edges_from(\n",
    "    list(zip(shapefile.pid_from, shapefile.pid_to, shapefile.addfunccol * 10))\n",
    ")\n",
    "# adding edges in the form: G.add_weighted_edges_from([(1, 2, 0.5), (3, 1, 1.75)])\n",
    "pos = nx.spring_layout(G)\n",
    "widths = nx.get_edge_attributes(G, \"weight\")\n",
    "nx.draw_networkx_edges(\n",
    "    G,\n",
    "    pos,\n",
    "    edgelist=widths.keys(),\n",
    "    width=list(widths.values()),\n",
    "    edge_color=\"darkblue\",\n",
    "    alpha=1,\n",
    ")\n",
    "plt.show()\n",
    "# nodelist = G.nodes()\n",
    "# nx.draw_networkx_nodes(G,pos,\n",
    "#                        nodelist=nodelist,\n",
    "#                        node_size=1500,\n",
    "#                        node_color='black',\n",
    "#                        alpha=0.7)\n",
    "# nx.draw_networkx_labels(G, pos=pos,\n",
    "#                         labels=dict(zip(nodelist,nodelist)),\n",
    "#                         font_color='white')"
   ]
  },
  {
   "attachments": {},
   "cell_type": "markdown",
   "metadata": {},
   "source": [
    "# Generator"
   ]
  },
  {
   "cell_type": "code",
   "execution_count": null,
   "metadata": {},
   "outputs": [],
   "source": [
    "# TODO: create generator onject on domain;\n",
    "# - add points, calculate distance"
   ]
  }
 ],
 "metadata": {
  "kernelspec": {
   "display_name": "dad_vtorch",
   "language": "python",
   "name": "python3"
  },
  "language_info": {
   "codemirror_mode": {
    "name": "ipython",
    "version": 3
   },
   "file_extension": ".py",
   "mimetype": "text/x-python",
   "name": "python",
   "nbconvert_exporter": "python",
   "pygments_lexer": "ipython3",
   "version": "3.10.11"
  },
  "orig_nbformat": 4
 },
 "nbformat": 4,
 "nbformat_minor": 2
}
