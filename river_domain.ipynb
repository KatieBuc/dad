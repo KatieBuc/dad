{
 "cells": [
  {
   "attachments": {},
   "cell_type": "markdown",
   "metadata": {},
   "source": [
    "# River as a shapefile (raw format)"
   ]
  },
  {
   "cell_type": "code",
   "execution_count": 1,
   "metadata": {},
   "outputs": [
    {
     "data": {
      "text/html": [
       "<div>\n",
       "<style scoped>\n",
       "    .dataframe tbody tr th:only-of-type {\n",
       "        vertical-align: middle;\n",
       "    }\n",
       "\n",
       "    .dataframe tbody tr th {\n",
       "        vertical-align: top;\n",
       "    }\n",
       "\n",
       "    .dataframe thead th {\n",
       "        text-align: right;\n",
       "    }\n",
       "</style>\n",
       "<table border=\"1\" class=\"dataframe\">\n",
       "  <thead>\n",
       "    <tr style=\"text-align: right;\">\n",
       "      <th></th>\n",
       "      <th>rid</th>\n",
       "      <th>netID</th>\n",
       "      <th>upDist</th>\n",
       "      <th>shreve</th>\n",
       "      <th>Length</th>\n",
       "      <th>addfunccol</th>\n",
       "      <th>geometry</th>\n",
       "    </tr>\n",
       "  </thead>\n",
       "  <tbody>\n",
       "    <tr>\n",
       "      <th>0</th>\n",
       "      <td>1</td>\n",
       "      <td>1</td>\n",
       "      <td>1.000000</td>\n",
       "      <td>4.0</td>\n",
       "      <td>1.000000</td>\n",
       "      <td>1.00</td>\n",
       "      <td>LINESTRING (0.00000 1.00000, 0.00000 0.00000)</td>\n",
       "    </tr>\n",
       "    <tr>\n",
       "      <th>1</th>\n",
       "      <td>2</td>\n",
       "      <td>1</td>\n",
       "      <td>1.960106</td>\n",
       "      <td>1.0</td>\n",
       "      <td>0.960106</td>\n",
       "      <td>0.25</td>\n",
       "      <td>LINESTRING (0.42592 1.86046, 0.00000 1.00000)</td>\n",
       "    </tr>\n",
       "    <tr>\n",
       "      <th>2</th>\n",
       "      <td>3</td>\n",
       "      <td>1</td>\n",
       "      <td>1.980141</td>\n",
       "      <td>3.0</td>\n",
       "      <td>0.980141</td>\n",
       "      <td>0.75</td>\n",
       "      <td>LINESTRING (0.16583 1.96601, 0.00000 1.00000)</td>\n",
       "    </tr>\n",
       "    <tr>\n",
       "      <th>3</th>\n",
       "      <td>4</td>\n",
       "      <td>1</td>\n",
       "      <td>3.032648</td>\n",
       "      <td>1.0</td>\n",
       "      <td>1.052508</td>\n",
       "      <td>0.25</td>\n",
       "      <td>LINESTRING (0.05008 3.01213, 0.16583 1.96601)</td>\n",
       "    </tr>\n",
       "    <tr>\n",
       "      <th>4</th>\n",
       "      <td>5</td>\n",
       "      <td>1</td>\n",
       "      <td>3.072281</td>\n",
       "      <td>2.0</td>\n",
       "      <td>1.092141</td>\n",
       "      <td>0.50</td>\n",
       "      <td>LINESTRING (0.75061 2.88840, 0.16583 1.96601)</td>\n",
       "    </tr>\n",
       "  </tbody>\n",
       "</table>\n",
       "</div>"
      ],
      "text/plain": [
       "   rid netID    upDist  shreve    Length  addfunccol  \\\n",
       "0    1     1  1.000000     4.0  1.000000        1.00   \n",
       "1    2     1  1.960106     1.0  0.960106        0.25   \n",
       "2    3     1  1.980141     3.0  0.980141        0.75   \n",
       "3    4     1  3.032648     1.0  1.052508        0.25   \n",
       "4    5     1  3.072281     2.0  1.092141        0.50   \n",
       "\n",
       "                                        geometry  \n",
       "0  LINESTRING (0.00000 1.00000, 0.00000 0.00000)  \n",
       "1  LINESTRING (0.42592 1.86046, 0.00000 1.00000)  \n",
       "2  LINESTRING (0.16583 1.96601, 0.00000 1.00000)  \n",
       "3  LINESTRING (0.05008 3.01213, 0.16583 1.96601)  \n",
       "4  LINESTRING (0.75061 2.88840, 0.16583 1.96601)  "
      ]
     },
     "execution_count": 1,
     "metadata": {},
     "output_type": "execute_result"
    }
   ],
   "source": [
    "import matplotlib.pyplot as plt\n",
    "import geopandas as gpd\n",
    "\n",
    "shapefile = gpd.read_file(\"edges.shp\")\n",
    "shapefile[\"rid\"] = shapefile[\"rid\"].astype(int)\n",
    "shapefile.head()"
   ]
  },
  {
   "attachments": {},
   "cell_type": "markdown",
   "metadata": {},
   "source": [
    "rid - unique identifier for river segment\\\n",
    "netID - river network ID, when dealing with multiple river outlets\\\n",
    "upDist - distance upstream from outlet (from the most upstream point on line)\\\n",
    "shreve - segment weighting based on Shreve's order\\\n",
    "addfunccol - additive function column, normalised shreve's order (used for weighting segments, a proxy for water volume)"
   ]
  },
  {
   "cell_type": "code",
   "execution_count": 2,
   "metadata": {},
   "outputs": [
    {
     "data": {
      "image/png": "[encoded data removed]",
      "text/plain": [
       "<Figure size 640x480 with 1 Axes>"
      ]
     },
     "metadata": {},
     "output_type": "display_data"
    }
   ],
   "source": [
    "# edges (rid's)\n",
    "ax = shapefile.plot()\n",
    "shapefile.apply(\n",
    "    lambda x: ax.annotate(text=x[\"rid\"], xy=x.geometry.centroid.coords[0], ha=\"center\"),\n",
    "    axis=1,\n",
    ")\n",
    "plt.show()"
   ]
  },
  {
   "cell_type": "code",
   "execution_count": 3,
   "metadata": {},
   "outputs": [],
   "source": [
    "# extract point information from shapely object: type(shapefile.geometry[0])\n",
    "shapefile[\"points\"] = shapefile.apply(lambda l: list(l[\"geometry\"].coords), axis=1)\n",
    "shapefile[[\"points_from\", \"points_to\"]] = shapefile[\"points\"].to_list()\n",
    "\n",
    "# create a unique identifier for the start/end points of an edge\n",
    "unique_locations = sorted(\n",
    "    list(set([item for sublist in shapefile.points.to_list() for item in sublist]))\n",
    ")\n",
    "PID_GPT = {i: unique_locations[i] for i in range(len(unique_locations))}\n",
    "GPT_PID = {v: k for k, v in PID_GPT.items()}\n",
    "\n",
    "# map from geographic point, GPT, to unique node identifier, PID\n",
    "shapefile[\"pid_from\"] = shapefile[\"points_from\"].apply(lambda x: GPT_PID[x])\n",
    "shapefile[\"pid_to\"] = shapefile[\"points_to\"].apply(lambda x: GPT_PID[x])"
   ]
  },
  {
   "cell_type": "code",
   "execution_count": 4,
   "metadata": {},
   "outputs": [
    {
     "data": {
      "image/png": "[encoded data removed]",
      "text/plain": [
       "<Figure size 640x480 with 1 Axes>"
      ]
     },
     "metadata": {},
     "output_type": "display_data"
    }
   ],
   "source": [
    "# node labels (pid's)\n",
    "ax = shapefile.plot()\n",
    "shapefile.apply(\n",
    "    lambda x: ax.annotate(text=x[\"pid_from\"], xy=x.points_from, ha=\"center\"), axis=1\n",
    ")\n",
    "shapefile.apply(\n",
    "    lambda x: ax.annotate(text=x[\"pid_to\"], xy=x.points_to, ha=\"center\"), axis=1\n",
    ")\n",
    "plt.show()"
   ]
  },
  {
   "cell_type": "code",
   "execution_count": 5,
   "metadata": {},
   "outputs": [],
   "source": [
    "# neither of these functions are necessary, now I realise\n",
    "def get_upstream_rids(row, df):\n",
    "    upstream_rids = []\n",
    "    up = df[df[\"pid_to\"] == row[\"pid_from\"]]\n",
    "\n",
    "    while len(up) > 0:\n",
    "        new_pids = list(up[\"pid_from\"])\n",
    "        upstream_rids.extend(up[\"rid\"])\n",
    "        up = df[df[\"pid_to\"].isin(new_pids)]\n",
    "\n",
    "    return upstream_rids\n",
    "\n",
    "\n",
    "def calculate_on_left(df):\n",
    "    grouped = df.groupby(\"pid_to\")\n",
    "    min_pid_from = grouped[\"pid_from\"].transform(\"min\")\n",
    "    df[\"on_left\"] = min_pid_from == df[\"pid_from\"]\n",
    "    return df"
   ]
  },
  {
   "cell_type": "code",
   "execution_count": 6,
   "metadata": {},
   "outputs": [],
   "source": [
    "df = shapefile[\n",
    "    [\"rid\", \"upDist\", \"shreve\", \"Length\", \"addfunccol\", \"pid_from\", \"pid_to\"]\n",
    "].copy()\n",
    "\n",
    "df[\"upstream_rids\"] = df.apply(lambda x: get_upstream_rids(x, df), axis=1)\n",
    "df = calculate_on_left(df)"
   ]
  },
  {
   "attachments": {},
   "cell_type": "markdown",
   "metadata": {},
   "source": [
    "## River domain representation (continuous)"
   ]
  },
  {
   "attachments": {},
   "cell_type": "markdown",
   "metadata": {},
   "source": [
    "#### Mapping from segment to space"
   ]
  },
  {
   "cell_type": "code",
   "execution_count": 7,
   "metadata": {},
   "outputs": [],
   "source": [
    "pid = 1  # the outlet node\n",
    "df.loc[df[\"pid_to\"] == pid, [\"parent_x_offset\"]] = 0\n",
    "df.loc[df[\"pid_to\"] == pid, [\"parent_width\"]] = 1\n",
    "\n",
    "from_pids_line_up = []\n",
    "finished = False\n",
    "\n",
    "while not finished:\n",
    "    # of length either 1 or 2\n",
    "    if len(df[df[\"pid_from\"] == pid]) > 0:\n",
    "        df.loc[df[\"pid_to\"] == pid, \"parent_x_offset\"] = float(\n",
    "            df[df[\"pid_from\"] == pid][\"x_offset\"].iloc[0]\n",
    "        )\n",
    "        df.loc[df[\"pid_to\"] == pid, \"parent_width\"] = float(\n",
    "            df[df[\"pid_from\"] == pid][\"width\"].iloc[0]\n",
    "        )\n",
    "\n",
    "    layer = df[df[\"pid_to\"] == pid].copy()\n",
    "    layer[\"pct\"] = layer[\"addfunccol\"] / layer[\"addfunccol\"].sum()\n",
    "    from_pids = layer[\"pid_from\"]\n",
    "\n",
    "    if len(from_pids) == 0:\n",
    "        finished = len(from_pids_line_up) == 0\n",
    "        if not finished:\n",
    "            pid = from_pids_line_up.pop(0)\n",
    "        continue\n",
    "\n",
    "    # add percentage share of addfunccol at each branching confluence\n",
    "    df.loc[df[\"pid_from\"].isin(from_pids), [\"width\"]] = (\n",
    "        layer[\"parent_width\"] * layer[\"pct\"]\n",
    "    )\n",
    "\n",
    "    # for the branch on left, then right\n",
    "    df.loc[df[\"pid_from\"] == min(from_pids), [\"x_offset\"]] = layer[\"parent_x_offset\"]\n",
    "\n",
    "    if len(from_pids) == 2:\n",
    "        df.loc[df[\"pid_from\"] == max(from_pids), [\"x_offset\"]] = float(\n",
    "            layer[\"parent_x_offset\"].iloc[0]\n",
    "        ) + float(df.loc[df[\"pid_from\"] == min(from_pids), [\"width\"]].squeeze())\n",
    "\n",
    "    # get next pid's\n",
    "    from_pids_line_up.extend(list(from_pids))\n",
    "    finished = len(from_pids_line_up) == 0\n",
    "    pid = from_pids_line_up.pop(0)"
   ]
  },
  {
   "cell_type": "code",
   "execution_count": 22,
   "metadata": {},
   "outputs": [
    {
     "data": {
      "image/png": "[encoded data removed]",
      "text/plain": [
       "<Figure size 640x480 with 1 Axes>"
      ]
     },
     "metadata": {},
     "output_type": "display_data"
    }
   ],
   "source": [
    "# plot bar\n",
    "import matplotlib.pyplot as plt\n",
    "\n",
    "fig, ax = plt.subplots()\n",
    "\n",
    "for i, row in df.iterrows():\n",
    "    ax.bar(\n",
    "        row[\"x_offset\"],\n",
    "        height=row[\"Length\"],\n",
    "        bottom=row[\"upDist\"] - row[\"Length\"],\n",
    "        width=row[\"addfunccol\"] - 0.02,  # epsilon\n",
    "        align=\"edge\",\n",
    "        color=\"skyblue\",\n",
    "        alpha=0.5,\n",
    "        edgecolor=\"black\",\n",
    "    )\n",
    "    ax.annotate(\n",
    "        row[\"rid\"],\n",
    "        xy=(\n",
    "            row[\"x_offset\"] + 0.5 * row[\"addfunccol\"],\n",
    "            row[\"upDist\"] - 0.5 * row[\"Length\"],\n",
    "        ),\n",
    "    )\n",
    "\n",
    "plt.show()"
   ]
  },
  {
   "attachments": {},
   "cell_type": "markdown",
   "metadata": {},
   "source": [
    "##### River domain representation (as a shapely.Polygon object)"
   ]
  },
  {
   "cell_type": "code",
   "execution_count": 38,
   "metadata": {},
   "outputs": [],
   "source": [
    "epsilon = 0.02\n",
    "df[\"box_coord\"] = [list() for i in range(len(df))]\n",
    "\n",
    "for i, row in df.iterrows():\n",
    "    x_left = row[\"x_offset\"]\n",
    "    x_right = row[\"x_offset\"] + row[\"addfunccol\"] - epsilon\n",
    "    y_top = row[\"upDist\"]\n",
    "    y_bottom = row[\"upDist\"] - row[\"Length\"]\n",
    "\n",
    "    df.loc[i, \"box_coord\"].extend(\n",
    "        [\n",
    "            (x_left, y_bottom),\n",
    "            (x_left, y_top),\n",
    "            (x_right, y_top),\n",
    "            (x_right, y_bottom),\n",
    "        ]\n",
    "    )  # bottom-left, top-left, top-right, bottom-right (clockwise)"
   ]
  },
  {
   "cell_type": "code",
   "execution_count": 42,
   "metadata": {},
   "outputs": [],
   "source": [
    "from itertools import groupby\n",
    "\n",
    "\n",
    "def group_by_x(tuples):\n",
    "    sorted_tuples = sorted(tuples, key=lambda point: point[0])\n",
    "    groups = []\n",
    "\n",
    "    for _, group in groupby(sorted_tuples, key=lambda point: point[0]):\n",
    "        groups.append(list(group))\n",
    "\n",
    "    return groups"
   ]
  },
  {
   "cell_type": "code",
   "execution_count": 50,
   "metadata": {},
   "outputs": [],
   "source": [
    "all_points = sorted([item for sublist in df[\"box_coord\"].values for item in sublist])\n",
    "grouped_x = group_by_x(all_points)\n",
    "\n",
    "new_list = []\n",
    "for i, l in enumerate(grouped_x):\n",
    "    if i % 2 == 0:\n",
    "        new_list.append(l[0])\n",
    "        new_list.append(l[-1])\n",
    "    else:\n",
    "        new_list.append(l[-1])\n",
    "        new_list.append(l[0])"
   ]
  },
  {
   "cell_type": "code",
   "execution_count": 58,
   "metadata": {},
   "outputs": [
    {
     "data": {
      "image/png": "[encoded data removed]",
      "text/plain": [
       "<Figure size 576x432 with 1 Axes>"
      ]
     },
     "metadata": {},
     "output_type": "display_data"
    }
   ],
   "source": [
    "# create high-coverage continous domain representation\n",
    "from shapely.geometry import Polygon\n",
    "from shapely.plotting import plot_polygon, plot_points\n",
    "\n",
    "fig = plt.figure(1, dpi=90)\n",
    "ax = fig.add_subplot()\n",
    "int = new_list + [new_list[0]]\n",
    "polygon = Polygon(int)\n",
    "\n",
    "plot_polygon(polygon, ax=ax, add_points=False, color=\"b\")\n",
    "plt.show()"
   ]
  },
  {
   "cell_type": "code",
   "execution_count": 59,
   "metadata": {},
   "outputs": [],
   "source": [
    "# any shapely helper functions??? inside shape? distance?"
   ]
  },
  {
   "attachments": {},
   "cell_type": "markdown",
   "metadata": {},
   "source": [
    "# Model"
   ]
  },
  {
   "attachments": {},
   "cell_type": "markdown",
   "metadata": {},
   "source": [
    "Linear regression models that describe spatio-temporal dependence are generally formulated as:\n",
    "\n",
    "$\\bf y = \\bf X \\boldsymbol \\beta + \\bf v + \\boldsymbol \\epsilon$\n",
    "\n",
    "where $\\bf y$ is a stacked response vector of size $n \\times 1$, with $n = S \\times T$ (for $S$ spatial locations and $T$ timepoints), $\\bf X$ is a $n \\times p$ design matrix of $p$ covariates, $\\boldsymbol \\beta$ is a $p \\times 1$ vector or regression coefficients, and $\\bf v$ is a vector of spatio-temporal autocorrelated random effects.\n",
    "\n",
    "\n",
    "\\\n",
    "Two main approaches are generally found to model spatio-temporal autocorrelation: \n",
    "\n",
    "(1) full covariance or descriptive models in which the space-time covariance function is constructed (i.e. Separable space-time VAR(1) model), and \\\n",
    "(2) dynamical model that involves the evolution of a spatial process (i.e. Vector autoregression spatial model)\n",
    "\n",
    "In the second approach we just need to construct the spatial covariance matrix. Temporal dependence is incorporated in the error terms using a vector autoregression VAR(1). Edgar's paper showed that both approaches are equivalent, and the second approach is more computationally efficient.\n",
    "\n",
    "\n",
    "#### Bayesian hierarchical model\n",
    "\n",
    "$ p(\\bf y_t | \\bf y_{t-1}, \\boldsymbol \\theta, \\bf X_t, \\bf X_{t-1}, \\boldsymbol \\Phi_1, \\Sigma) = \\mathcal{N}(\\boldsymbol \\mu_t, \\Sigma + \\sigma_0^2 \\bf I)$\n",
    "\n",
    "$\\boldsymbol \\mu_t = \\bf X_t \\boldsymbol \\beta + \\boldsymbol \\Phi_1(\\bf y_{t-1} - \\bf X_{t-1} \\boldsymbol \\beta)$\n",
    "\n",
    "where\n",
    "\n",
    "$\\boldsymbol \\Sigma = Cov(v_i)\\ \\forall i = 1,...,T$ is the $S \\times S$ spatial covariance matrix, e.g., formulated by the exponential function with matrix entries of the form\n",
    "\n",
    "$\\boldsymbol \\Sigma_{ij} := C(h_{ij} | \\boldsymbol \\theta) = \\sigma_1^2 \\exp(-h_{ij}/\\alpha), \\ \\alpha > 0,\\ h_{ij}$ is the stream distance between locations $s_i$ and $s_j$. Denote spatial covariance parameters by $\\boldsymbol \\theta = (\\sigma_0^2,\\sigma_1^2,\\alpha)$.\n",
    "\n",
    "\n",
    "$\\boldsymbol \\Phi_1$ is the $S \\times S$ transition matrix determining the amount of temporal autocorrelation, e.g., in the simplest case, assuming the same temporal autocorrelation for all spatial locations, the diagonal elements of $\\boldsymbol \\Phi$ are all equal to $\\phi$ and all the off-diagonal ones are set to zero,\n",
    "\n",
    "\n",
    "$\\boldsymbol \\Phi_1 = \n",
    "\\begin{bmatrix}\n",
    "\\phi & 0 & 0 & \\cdots & 0 \\\\\n",
    "0 & \\phi & 0 & \\cdots & 0 \\\\\n",
    "0 & 0 & \\phi & \\cdots & 0 \\\\\n",
    "\\vdots & \\vdots & \\vdots & \\ddots & \\vdots \\\\\n",
    "0 & 0 & 0 & \\cdots & \\phi \\\\\n",
    "\\end{bmatrix}\n",
    "$\n",
    "\n",
    "\n",
    "##### Hyper priors\n",
    "\n",
    "$\\beta_1,...,\\beta_p \\sim \\mathcal(0,10)$   # prior on the regression coefficients\n",
    "\n",
    "$\\sigma_0 \\sim \\text{Uniform}(0, 1) $ # prior on the nugget effect\n",
    "\n",
    "$\\sigma_1 \\sim \\text{Uniform}(0, 10) $ # prior partial sill parameters\n",
    "\n",
    "$\\alpha \\sim \\text{Uniform}(0, 16) $ # prior on spatial range parameters\n",
    "\n",
    "$\\phi \\sim \\text{Uniform}(-1,1) $ # prior on the autoregressive parameters, elements of $\\boldsymbol \\Phi_1$\n",
    "\n",
    "See: https://www.fs.usda.gov/rm/pubs_journals/2022/rmrs_2022_santos_fernandes_e001.pdf\n"
   ]
  },
  {
   "attachments": {},
   "cell_type": "markdown",
   "metadata": {},
   "source": [
    "# Generator"
   ]
  },
  {
   "cell_type": "code",
   "execution_count": null,
   "metadata": {},
   "outputs": [],
   "source": [
    "# TODO: create generator onject on domain;\n",
    "# - add points, calculate distance"
   ]
  },
  {
   "cell_type": "code",
   "execution_count": null,
   "metadata": {},
   "outputs": [],
   "source": []
  },
  {
   "cell_type": "code",
   "execution_count": null,
   "metadata": {},
   "outputs": [],
   "source": []
  },
  {
   "cell_type": "code",
   "execution_count": null,
   "metadata": {},
   "outputs": [],
   "source": []
  },
  {
   "attachments": {},
   "cell_type": "markdown",
   "metadata": {},
   "source": [
    "## River as graph (NetworkX)"
   ]
  },
  {
   "cell_type": "code",
   "execution_count": 15,
   "metadata": {},
   "outputs": [
    {
     "name": "stderr",
     "output_type": "stream",
     "text": [
      "C:\\Users\\n10907700\\AppData\\Local\\Temp\\ipykernel_23724\\1569939559.py:11: DeprecationWarning: `alltrue` is deprecated as of NumPy 1.25.0, and will be removed in NumPy 2.0. Please use `all` instead.\n",
      "  nx.draw_networkx_edges(\n"
     ]
    },
    {
     "data": {
      "image/png": "[encoded data removed]",
      "text/plain": [
       "<Figure size 640x480 with 1 Axes>"
      ]
     },
     "metadata": {},
     "output_type": "display_data"
    }
   ],
   "source": [
    "import networkx as nx\n",
    "\n",
    "# encode as networkx object and plot\n",
    "G = nx.DiGraph()\n",
    "G.add_weighted_edges_from(\n",
    "    list(zip(shapefile.pid_from, shapefile.pid_to, shapefile.addfunccol * 10))\n",
    ")\n",
    "# adding edges in the form: G.add_weighted_edges_from([(1, 2, 0.5), (3, 1, 1.75)])\n",
    "pos = nx.spring_layout(G)\n",
    "widths = nx.get_edge_attributes(G, \"weight\")\n",
    "nx.draw_networkx_edges(\n",
    "    G,\n",
    "    pos,\n",
    "    edgelist=widths.keys(),\n",
    "    width=list(widths.values()),\n",
    "    edge_color=\"darkblue\",\n",
    "    alpha=1,\n",
    ")\n",
    "plt.show()\n",
    "# nodelist = G.nodes()\n",
    "# nx.draw_networkx_nodes(G,pos,\n",
    "#                        nodelist=nodelist,\n",
    "#                        node_size=1500,\n",
    "#                        node_color='black',\n",
    "#                        alpha=0.7)\n",
    "# nx.draw_networkx_labels(G, pos=pos,\n",
    "#                         labels=dict(zip(nodelist,nodelist)),\n",
    "#                         font_color='white')"
   ]
  }
 ],
 "metadata": {
  "kernelspec": {
   "display_name": "dad_vtorch",
   "language": "python",
   "name": "python3"
  },
  "language_info": {
   "codemirror_mode": {
    "name": "ipython",
    "version": 3
   },
   "file_extension": ".py",
   "mimetype": "text/x-python",
   "name": "python",
   "nbconvert_exporter": "python",
   "pygments_lexer": "ipython3",
   "version": "3.10.11"
  },
  "orig_nbformat": 4
 },
 "nbformat": 4,
 "nbformat_minor": 2
}
