{
 "cells": [
  {
   "attachments": {},
   "cell_type": "markdown",
   "metadata": {},
   "source": [
    "# River as a shapefile (raw format)"
   ]
  },
  {
   "cell_type": "code",
   "execution_count": 1,
   "metadata": {},
   "outputs": [
    {
     "data": {
      "text/html": [
       "<div>\n",
       "<style scoped>\n",
       "    .dataframe tbody tr th:only-of-type {\n",
       "        vertical-align: middle;\n",
       "    }\n",
       "\n",
       "    .dataframe tbody tr th {\n",
       "        vertical-align: top;\n",
       "    }\n",
       "\n",
       "    .dataframe thead th {\n",
       "        text-align: right;\n",
       "    }\n",
       "</style>\n",
       "<table border=\"1\" class=\"dataframe\">\n",
       "  <thead>\n",
       "    <tr style=\"text-align: right;\">\n",
       "      <th></th>\n",
       "      <th>rid</th>\n",
       "      <th>netID</th>\n",
       "      <th>upDist</th>\n",
       "      <th>shreve</th>\n",
       "      <th>Length</th>\n",
       "      <th>addfunccol</th>\n",
       "      <th>geometry</th>\n",
       "    </tr>\n",
       "  </thead>\n",
       "  <tbody>\n",
       "    <tr>\n",
       "      <th>0</th>\n",
       "      <td>1</td>\n",
       "      <td>1</td>\n",
       "      <td>1.000000</td>\n",
       "      <td>4.0</td>\n",
       "      <td>1.000000</td>\n",
       "      <td>1.00</td>\n",
       "      <td>LINESTRING (0.00000 1.00000, 0.00000 0.00000)</td>\n",
       "    </tr>\n",
       "    <tr>\n",
       "      <th>1</th>\n",
       "      <td>2</td>\n",
       "      <td>1</td>\n",
       "      <td>1.960106</td>\n",
       "      <td>1.0</td>\n",
       "      <td>0.960106</td>\n",
       "      <td>0.25</td>\n",
       "      <td>LINESTRING (0.42592 1.86046, 0.00000 1.00000)</td>\n",
       "    </tr>\n",
       "    <tr>\n",
       "      <th>2</th>\n",
       "      <td>3</td>\n",
       "      <td>1</td>\n",
       "      <td>1.980141</td>\n",
       "      <td>3.0</td>\n",
       "      <td>0.980141</td>\n",
       "      <td>0.75</td>\n",
       "      <td>LINESTRING (0.16583 1.96601, 0.00000 1.00000)</td>\n",
       "    </tr>\n",
       "    <tr>\n",
       "      <th>3</th>\n",
       "      <td>4</td>\n",
       "      <td>1</td>\n",
       "      <td>3.032648</td>\n",
       "      <td>1.0</td>\n",
       "      <td>1.052508</td>\n",
       "      <td>0.25</td>\n",
       "      <td>LINESTRING (0.05008 3.01213, 0.16583 1.96601)</td>\n",
       "    </tr>\n",
       "    <tr>\n",
       "      <th>4</th>\n",
       "      <td>5</td>\n",
       "      <td>1</td>\n",
       "      <td>3.072281</td>\n",
       "      <td>2.0</td>\n",
       "      <td>1.092141</td>\n",
       "      <td>0.50</td>\n",
       "      <td>LINESTRING (0.75061 2.88840, 0.16583 1.96601)</td>\n",
       "    </tr>\n",
       "  </tbody>\n",
       "</table>\n",
       "</div>"
      ],
      "text/plain": [
       "   rid netID    upDist  shreve    Length  addfunccol  \\\n",
       "0    1     1  1.000000     4.0  1.000000        1.00   \n",
       "1    2     1  1.960106     1.0  0.960106        0.25   \n",
       "2    3     1  1.980141     3.0  0.980141        0.75   \n",
       "3    4     1  3.032648     1.0  1.052508        0.25   \n",
       "4    5     1  3.072281     2.0  1.092141        0.50   \n",
       "\n",
       "                                        geometry  \n",
       "0  LINESTRING (0.00000 1.00000, 0.00000 0.00000)  \n",
       "1  LINESTRING (0.42592 1.86046, 0.00000 1.00000)  \n",
       "2  LINESTRING (0.16583 1.96601, 0.00000 1.00000)  \n",
       "3  LINESTRING (0.05008 3.01213, 0.16583 1.96601)  \n",
       "4  LINESTRING (0.75061 2.88840, 0.16583 1.96601)  "
      ]
     },
     "execution_count": 1,
     "metadata": {},
     "output_type": "execute_result"
    }
   ],
   "source": [
    "import matplotlib.pyplot as plt\n",
    "import numpy as np\n",
    "import geopandas as gpd\n",
    "\n",
    "shapefile = gpd.read_file(\"edges.shp\")\n",
    "shapefile[\"rid\"] = shapefile[\"rid\"].astype(int)\n",
    "shapefile.head()"
   ]
  },
  {
   "attachments": {},
   "cell_type": "markdown",
   "metadata": {},
   "source": [
    "rid - unique identifier for river segment\\\n",
    "netID - river network ID, when dealing with multiple river outlets\\\n",
    "upDist - distance upstream from outlet (from the most upstream point on line)\\\n",
    "shreve - segment weighting based on Shreve's order\\\n",
    "addfunccol - additive function column, normalised shreve's order (used for weighting segments, a proxy for water volume)"
   ]
  },
  {
   "cell_type": "code",
   "execution_count": 2,
   "metadata": {},
   "outputs": [
    {
     "data": {
      "image/png": "[encoded data removed]",
      "text/plain": [
       "<Figure size 640x480 with 1 Axes>"
      ]
     },
     "metadata": {},
     "output_type": "display_data"
    }
   ],
   "source": [
    "# edges (rid's)\n",
    "ax = shapefile.plot()\n",
    "shapefile.apply(\n",
    "    lambda x: ax.annotate(text=x[\"rid\"], xy=x.geometry.centroid.coords[0], ha=\"center\"),\n",
    "    axis=1,\n",
    ")\n",
    "plt.show()"
   ]
  },
  {
   "cell_type": "code",
   "execution_count": 3,
   "metadata": {},
   "outputs": [],
   "source": [
    "# extract point information from shapely object: type(shapefile.geometry[0])\n",
    "shapefile[\"points\"] = shapefile.apply(lambda l: list(l[\"geometry\"].coords), axis=1)\n",
    "shapefile[[\"points_from\", \"points_to\"]] = shapefile[\"points\"].to_list()\n",
    "\n",
    "# create a unique identifier for the start/end points of an edge\n",
    "unique_locations = sorted(\n",
    "    list(set([item for sublist in shapefile.points.to_list() for item in sublist]))\n",
    ")\n",
    "PID_GPT = {i: unique_locations[i] for i in range(len(unique_locations))}\n",
    "GPT_PID = {v: k for k, v in PID_GPT.items()}\n",
    "\n",
    "# map from geographic point, GPT, to unique node identifier, PID\n",
    "shapefile[\"pid_from\"] = shapefile[\"points_from\"].apply(lambda x: GPT_PID[x])\n",
    "shapefile[\"pid_to\"] = shapefile[\"points_to\"].apply(lambda x: GPT_PID[x])"
   ]
  },
  {
   "cell_type": "code",
   "execution_count": 4,
   "metadata": {},
   "outputs": [
    {
     "data": {
      "image/png": "[encoded data removed]",
      "text/plain": [
       "<Figure size 640x480 with 1 Axes>"
      ]
     },
     "metadata": {},
     "output_type": "display_data"
    }
   ],
   "source": [
    "# node labels (pid's)\n",
    "ax = shapefile.plot()\n",
    "shapefile.apply(\n",
    "    lambda x: ax.annotate(text=x[\"pid_from\"], xy=x.points_from, ha=\"center\"), axis=1\n",
    ")\n",
    "shapefile.apply(\n",
    "    lambda x: ax.annotate(text=x[\"pid_to\"], xy=x.points_to, ha=\"center\"), axis=1\n",
    ")\n",
    "plt.show()"
   ]
  },
  {
   "cell_type": "code",
   "execution_count": 5,
   "metadata": {},
   "outputs": [],
   "source": [
    "# neither of these functions are necessary, now I realise\n",
    "def get_upstream_rids(row, df):\n",
    "    upstream_rids = []\n",
    "    up = df[df[\"pid_to\"] == row[\"pid_from\"]]\n",
    "\n",
    "    while len(up) > 0:\n",
    "        new_pids = list(up[\"pid_from\"])\n",
    "        upstream_rids.extend(up[\"rid\"])\n",
    "        up = df[df[\"pid_to\"].isin(new_pids)]\n",
    "\n",
    "    return upstream_rids\n",
    "\n",
    "\n",
    "def calculate_on_left(df):\n",
    "    grouped = df.groupby(\"pid_to\")\n",
    "    min_pid_from = grouped[\"pid_from\"].transform(\"min\")\n",
    "    df[\"on_left\"] = min_pid_from == df[\"pid_from\"]\n",
    "    return df"
   ]
  },
  {
   "cell_type": "code",
   "execution_count": 6,
   "metadata": {},
   "outputs": [],
   "source": [
    "df = shapefile[\n",
    "    [\"rid\", \"upDist\", \"shreve\", \"Length\", \"addfunccol\", \"points\", \"pid_from\", \"pid_to\"]\n",
    "].copy()\n",
    "\n",
    "df[\"upstream_rids\"] = df.apply(lambda x: get_upstream_rids(x, df), axis=1)\n",
    "df = calculate_on_left(df)"
   ]
  },
  {
   "attachments": {},
   "cell_type": "markdown",
   "metadata": {},
   "source": [
    "## River domain representation (continuous)"
   ]
  },
  {
   "attachments": {},
   "cell_type": "markdown",
   "metadata": {},
   "source": [
    "#### Mapping from segment to space"
   ]
  },
  {
   "cell_type": "code",
   "execution_count": 7,
   "metadata": {},
   "outputs": [],
   "source": [
    "pid = 1  # the outlet node\n",
    "df.loc[df[\"pid_to\"] == pid, [\"parent_x_offset\"]] = 0\n",
    "df.loc[df[\"pid_to\"] == pid, [\"parent_width\"]] = 1\n",
    "\n",
    "from_pids_line_up = []\n",
    "finished = False\n",
    "\n",
    "while not finished:\n",
    "    # of length either 1 or 2\n",
    "    if len(df[df[\"pid_from\"] == pid]) > 0:\n",
    "        df.loc[df[\"pid_to\"] == pid, \"parent_x_offset\"] = float(\n",
    "            df[df[\"pid_from\"] == pid][\"x_offset\"].iloc[0]\n",
    "        )\n",
    "        df.loc[df[\"pid_to\"] == pid, \"parent_width\"] = float(\n",
    "            df[df[\"pid_from\"] == pid][\"width\"].iloc[0]\n",
    "        )\n",
    "\n",
    "    layer = df[df[\"pid_to\"] == pid].copy()\n",
    "    layer[\"pct\"] = layer[\"addfunccol\"] / layer[\"addfunccol\"].sum()\n",
    "    from_pids = layer[\"pid_from\"]\n",
    "\n",
    "    if len(from_pids) == 0:\n",
    "        finished = len(from_pids_line_up) == 0\n",
    "        if not finished:\n",
    "            pid = from_pids_line_up.pop(0)\n",
    "        continue\n",
    "\n",
    "    # add percentage share of addfunccol at each branching confluence\n",
    "    df.loc[df[\"pid_from\"].isin(from_pids), [\"width\"]] = (\n",
    "        layer[\"parent_width\"] * layer[\"pct\"]\n",
    "    )\n",
    "\n",
    "    # for the branch on left, then right\n",
    "    df.loc[df[\"pid_from\"] == min(from_pids), [\"x_offset\"]] = layer[\"parent_x_offset\"]\n",
    "\n",
    "    if len(from_pids) == 2:\n",
    "        df.loc[df[\"pid_from\"] == max(from_pids), [\"x_offset\"]] = float(\n",
    "            layer[\"parent_x_offset\"].iloc[0]\n",
    "        ) + float(df.loc[df[\"pid_from\"] == min(from_pids), [\"width\"]].squeeze())\n",
    "\n",
    "    # get next pid's\n",
    "    from_pids_line_up.extend(list(from_pids))\n",
    "    finished = len(from_pids_line_up) == 0\n",
    "    pid = from_pids_line_up.pop(0)"
   ]
  },
  {
   "cell_type": "code",
   "execution_count": 8,
   "metadata": {},
   "outputs": [
    {
     "data": {
      "image/png": "[encoded data removed]",
      "text/plain": [
       "<Figure size 640x480 with 1 Axes>"
      ]
     },
     "metadata": {},
     "output_type": "display_data"
    }
   ],
   "source": [
    "# plot bar\n",
    "import matplotlib.pyplot as plt\n",
    "\n",
    "fig, ax = plt.subplots()\n",
    "\n",
    "for i, row in df.iterrows():\n",
    "    ax.bar(\n",
    "        row[\"x_offset\"],\n",
    "        height=row[\"Length\"],\n",
    "        bottom=row[\"upDist\"] - row[\"Length\"],\n",
    "        width=row[\"addfunccol\"] - 0.02,  # epsilon\n",
    "        align=\"edge\",\n",
    "        color=\"skyblue\",\n",
    "        alpha=0.5,\n",
    "        edgecolor=\"black\",\n",
    "    )\n",
    "    ax.annotate(\n",
    "        row[\"rid\"],\n",
    "        xy=(\n",
    "            row[\"x_offset\"] + 0.5 * row[\"addfunccol\"],\n",
    "            row[\"upDist\"] - 0.5 * row[\"Length\"],\n",
    "        ),\n",
    "    )\n",
    "\n",
    "plt.show()"
   ]
  },
  {
   "attachments": {},
   "cell_type": "markdown",
   "metadata": {},
   "source": [
    "##### River domain representation (as a shapely.Polygon object)"
   ]
  },
  {
   "cell_type": "code",
   "execution_count": 9,
   "metadata": {},
   "outputs": [],
   "source": [
    "epsilon = 0.02\n",
    "df[\"box_coord\"] = [list() for i in range(len(df))]\n",
    "\n",
    "for i, row in df.iterrows():\n",
    "    x_left = row[\"x_offset\"]\n",
    "    x_right = row[\"x_offset\"] + row[\"addfunccol\"] - epsilon\n",
    "    y_top = row[\"upDist\"]\n",
    "    y_bottom = row[\"upDist\"] - row[\"Length\"]\n",
    "\n",
    "    df.loc[i, \"box_coord\"].extend(\n",
    "        [\n",
    "            (x_left, y_bottom),\n",
    "            (x_left, y_top),\n",
    "            (x_right, y_top),\n",
    "            (x_right, y_bottom),\n",
    "        ]\n",
    "    )  # bottom-left, top-left, top-right, bottom-right (clockwise)"
   ]
  },
  {
   "cell_type": "code",
   "execution_count": 10,
   "metadata": {},
   "outputs": [],
   "source": [
    "from itertools import groupby\n",
    "\n",
    "\n",
    "def group_by_x(tuples):\n",
    "    sorted_tuples = sorted(tuples, key=lambda point: point[0])\n",
    "    groups = []\n",
    "\n",
    "    for _, group in groupby(sorted_tuples, key=lambda point: point[0]):\n",
    "        groups.append(list(group))\n",
    "\n",
    "    return groups"
   ]
  },
  {
   "cell_type": "code",
   "execution_count": 11,
   "metadata": {},
   "outputs": [],
   "source": [
    "all_points = sorted([item for sublist in df[\"box_coord\"].values for item in sublist])\n",
    "grouped_x = group_by_x(all_points)\n",
    "\n",
    "new_list = []\n",
    "for i, l in enumerate(grouped_x):\n",
    "    if i % 2 == 0:\n",
    "        new_list.append(l[0])\n",
    "        new_list.append(l[-1])\n",
    "    else:\n",
    "        new_list.append(l[-1])\n",
    "        new_list.append(l[0])"
   ]
  },
  {
   "cell_type": "code",
   "execution_count": 12,
   "metadata": {},
   "outputs": [
    {
     "data": {
      "image/png": "[encoded data removed]",
      "text/plain": [
       "<Figure size 576x432 with 1 Axes>"
      ]
     },
     "metadata": {},
     "output_type": "display_data"
    }
   ],
   "source": [
    "# create high-coverage continous domain representation\n",
    "from shapely.geometry import Polygon\n",
    "from shapely.plotting import plot_polygon, plot_points\n",
    "\n",
    "fig = plt.figure(1, dpi=90)\n",
    "ax = fig.add_subplot()\n",
    "int = new_list + [new_list[0]]\n",
    "polygon = Polygon(int)\n",
    "\n",
    "plot_polygon(polygon, ax=ax, add_points=False, color=\"b\")\n",
    "plt.show()"
   ]
  },
  {
   "cell_type": "code",
   "execution_count": 13,
   "metadata": {},
   "outputs": [
    {
     "data": {
      "text/plain": [
       "(0.0, 0.0, 0.98, 4.044050746411085)"
      ]
     },
     "execution_count": 13,
     "metadata": {},
     "output_type": "execute_result"
    }
   ],
   "source": [
    "# any shapely helper functions??? inside shape? distance?\n",
    "polygon.bounds"
   ]
  },
  {
   "cell_type": "code",
   "execution_count": null,
   "metadata": {},
   "outputs": [],
   "source": [
    "# implement in pyro\n",
    "# alpha and sigma_0, sigma_1 are constant (remove Xbeta, temporal) -> only v random (learn the function)\n",
    "\n",
    "\n",
    "# 1. first get design\n",
    "# 2. compute h_ij matrix given design\n",
    "# 3. calculate covariance matrix for v, deterministic on h_ij\n",
    "# 4. sample v, using same pyro syntax as latent variable\n",
    "# 5. sample y given v with independent random noise (small, fixed) [mu=v, cov=Isigma]\n",
    "\n",
    "# strip out all location finding latent variables, put in stream distance\n",
    "\n",
    "# learning the design\n",
    "# gradient (nudge back within polygon), baseline: batch bald - discretization of design space add points one at a time, approximation to optimal design (read paper)\n",
    "\n",
    "# diagnostics, convergence"
   ]
  },
  {
   "cell_type": "code",
   "execution_count": null,
   "metadata": {},
   "outputs": [],
   "source": [
    "# 18:41:39 From  Desi R. Ivanova  to  Everyone:\n",
    "# \tBatchBALD\n",
    "# 18:41:50 From  Adam  to  Everyone:\n",
    "# \thttps://arxiv.org/abs/1906.08158\n",
    "# 18:48:50 From  Adam  to  Everyone:\n",
    "# \thttps://mlflow.org/docs/latest/index.html"
   ]
  },
  {
   "attachments": {},
   "cell_type": "markdown",
   "metadata": {},
   "source": [
    "# Model"
   ]
  },
  {
   "attachments": {},
   "cell_type": "markdown",
   "metadata": {},
   "source": [
    "Linear regression models that describe spatio-temporal dependence are generally formulated as:\n",
    "\n",
    "$\\bf y = \\bf X \\boldsymbol \\beta + \\bf v + \\boldsymbol \\epsilon$\n",
    "\n",
    "where $\\bf y$ is a stacked response vector of size $n \\times 1$, with $n = S \\times T$ (for $S$ spatial locations and $T$ timepoints), $\\bf X$ is a $n \\times p$ design matrix of $p$ covariates, $\\boldsymbol \\beta$ is a $p \\times 1$ vector or regression coefficients, and $\\bf v$ is a vector of spatio-temporal autocorrelated random effects.\n",
    "\n",
    "\n",
    "\\\n",
    "Two main approaches are generally found to model spatio-temporal autocorrelation: \n",
    "\n",
    "(1) full covariance or descriptive models in which the space-time covariance function is constructed (i.e. Separable space-time VAR(1) model), and \\\n",
    "(2) dynamical model that involves the evolution of a spatial process (i.e. Vector autoregression spatial model)\n",
    "\n",
    "In the second approach we just need to construct the spatial covariance matrix. Temporal dependence is incorporated in the error terms using a vector autoregression VAR(1). Edgar's paper showed that both approaches are equivalent, and the second approach is more computationally efficient.\n",
    "\n",
    "\n",
    "#### Bayesian hierarchical model\n",
    "\n",
    "$ p(\\bf y_t | \\bf y_{t-1}, \\boldsymbol \\theta, \\bf X_t, \\bf X_{t-1}, \\boldsymbol \\Phi_1, \\Sigma) = \\mathcal{N}(\\boldsymbol \\mu_t, \\Sigma + \\sigma_0^2 \\bf I)$\n",
    "\n",
    "$\\boldsymbol \\mu_t = \\bf X_t \\boldsymbol \\beta + \\boldsymbol \\Phi_1(\\bf y_{t-1} - \\bf X_{t-1} \\boldsymbol \\beta)$\n",
    "\n",
    "where\n",
    "\n",
    "$\\boldsymbol \\Sigma = Cov(v_i)\\ \\forall i = 1,...,T$ is the $S \\times S$ spatial covariance matrix, e.g., formulated by the exponential function with matrix entries of the form\n",
    "\n",
    "$\\boldsymbol \\Sigma_{ij} := C(h_{ij} | \\boldsymbol \\theta) = \\sigma_1^2 \\exp(-h_{ij}/\\alpha), \\ \\alpha > 0,\\ h_{ij}$ is the stream distance between locations $s_i$ and $s_j$. Denote spatial covariance parameters by $\\boldsymbol \\theta = (\\sigma_0^2,\\sigma_1^2,\\alpha)$.\n",
    "\n",
    "\n",
    "$\\boldsymbol \\Phi_1$ is the $S \\times S$ transition matrix determining the amount of temporal autocorrelation, e.g., in the simplest case, assuming the same temporal autocorrelation for all spatial locations, the diagonal elements of $\\boldsymbol \\Phi$ are all equal to $\\phi$ and all the off-diagonal ones are set to zero,\n",
    "\n",
    "\n",
    "$\\boldsymbol \\Phi_1 = \n",
    "\\begin{bmatrix}\n",
    "\\phi & 0 & 0 & \\cdots & 0 \\\\\n",
    "0 & \\phi & 0 & \\cdots & 0 \\\\\n",
    "0 & 0 & \\phi & \\cdots & 0 \\\\\n",
    "\\vdots & \\vdots & \\vdots & \\ddots & \\vdots \\\\\n",
    "0 & 0 & 0 & \\cdots & \\phi \\\\\n",
    "\\end{bmatrix}\n",
    "$\n",
    "\n",
    "\n",
    "##### Hyper priors\n",
    "\n",
    "$\\beta_1,...,\\beta_p \\sim \\mathcal(0,10)$   # prior on the regression coefficients\n",
    "\n",
    "$\\sigma_0 \\sim \\text{Uniform}(0, 1) $ # prior on the nugget effect\n",
    "\n",
    "$\\sigma_1 \\sim \\text{Uniform}(0, 10) $ # prior partial sill parameters\n",
    "\n",
    "$\\alpha \\sim \\text{Uniform}(0, 16) $ # prior on spatial range parameters\n",
    "\n",
    "$\\phi \\sim \\text{Uniform}(-1,1) $ # prior on the autoregressive parameters, elements of $\\boldsymbol \\Phi_1$\n",
    "\n",
    "\n",
    "\n",
    "\\\n",
    "See: https://www.fs.usda.gov/rm/pubs_journals/2022/rmrs_2022_santos_fernandes_e001.pdf\n"
   ]
  },
  {
   "attachments": {},
   "cell_type": "markdown",
   "metadata": {},
   "source": [
    "# Generator"
   ]
  },
  {
   "cell_type": "code",
   "execution_count": 14,
   "metadata": {},
   "outputs": [],
   "source": [
    "from shapely.geometry import Point\n",
    "import torch\n",
    "\n",
    "# sample points in continuous domain\n",
    "\n",
    "\n",
    "def random_sample_polygon(polygon, number):\n",
    "    points = []\n",
    "    minx, miny, maxx, maxy = polygon.bounds\n",
    "    while len(points) < number:\n",
    "        pnt = Point(np.random.uniform(minx, maxx), np.random.uniform(miny, maxy))\n",
    "        if polygon.contains(pnt):\n",
    "            points.append(pnt)\n",
    "    return points"
   ]
  },
  {
   "cell_type": "code",
   "execution_count": 15,
   "metadata": {},
   "outputs": [
    {
     "data": {
      "text/plain": [
       "[<POINT (0.373 1.484)>, <POINT (0.299 0.01)>, <POINT (0.018 2.736)>]"
      ]
     },
     "execution_count": 15,
     "metadata": {},
     "output_type": "execute_result"
    }
   ],
   "source": [
    "s_t = random_sample_polygon(polygon, 3)\n",
    "s_t"
   ]
  },
  {
   "cell_type": "code",
   "execution_count": 16,
   "metadata": {},
   "outputs": [
    {
     "data": {
      "image/png": "[encoded data removed]",
      "text/plain": [
       "<Figure size 576x432 with 1 Axes>"
      ]
     },
     "metadata": {},
     "output_type": "display_data"
    }
   ],
   "source": [
    "fig = plt.figure(1, dpi=90)\n",
    "ax = fig.add_subplot()\n",
    "\n",
    "plot_polygon(polygon, ax=ax, add_points=False, color=\"b\")\n",
    "xs = [point.x for point in s_t]\n",
    "ys = [point.y for point in s_t]\n",
    "plt.scatter(xs, ys)\n",
    "plt.show()"
   ]
  },
  {
   "cell_type": "code",
   "execution_count": 17,
   "metadata": {},
   "outputs": [
    {
     "data": {
      "text/plain": [
       "array([[0.        , 1.47373594, 1.2522123 ],\n",
       "       [1.47373594, 0.        , 2.72594824],\n",
       "       [1.2522123 , 2.72594824, 0.        ]])"
      ]
     },
     "execution_count": 17,
     "metadata": {},
     "output_type": "execute_result"
    }
   ],
   "source": [
    "import scipy\n",
    "\n",
    "# calculate stream distance\n",
    "h_ij = scipy.spatial.distance_matrix([(0, y) for y in ys], [(0, y) for y in ys])\n",
    "h_ij\n",
    "\n",
    "# fix h_ij so that goes around finger\n",
    "# small kernel term that involves x coordinate -> effect of being a gradient term that encouages"
   ]
  },
  {
   "cell_type": "code",
   "execution_count": 43,
   "metadata": {},
   "outputs": [],
   "source": [
    "# MAP from continuous domain to geospaital xy coords\n",
    "\n",
    "\n",
    "def xy_along_segment(s_i, df):\n",
    "    # get corresponding segment of s_i from df\n",
    "    idx_df = [i for i in range(len(df)) if s_i.within(Polygon(df[\"box_coord\"].iloc[i]))]\n",
    "    row = df.iloc[idx_df].squeeze()\n",
    "\n",
    "    # get line start and end points on geographic space\n",
    "    x1, y1 = row[\"points\"][0]\n",
    "    x2, y2 = row[\"points\"][1]\n",
    "\n",
    "    # Calculate the differences in x and y coordinates\n",
    "    dx = x2 - x1\n",
    "    dy = y2 - y1\n",
    "\n",
    "    # Calculate the fraction of the total distance\n",
    "    dist_along_segment = row[\"upDist\"] - s_i.y\n",
    "    fraction = dist_along_segment / row[\"Length\"]\n",
    "\n",
    "    # Calculate the coordinates of the point along the line\n",
    "    x = x1 + fraction * dx\n",
    "    y = y1 + fraction * dy\n",
    "\n",
    "    return (x, y)"
   ]
  },
  {
   "cell_type": "code",
   "execution_count": 44,
   "metadata": {},
   "outputs": [
    {
     "data": {
      "text/plain": [
       "[(0.0818517874995771, 1.47680649077019),\n",
       " (0.0, 0.010045151573481959),\n",
       " (0.08270365349482961, 2.7172777556029613)]"
      ]
     },
     "execution_count": 44,
     "metadata": {},
     "output_type": "execute_result"
    }
   ],
   "source": [
    "geo_coords = [xy_along_segment(s_i, df) for s_i in s_t]\n",
    "geo_coords"
   ]
  },
  {
   "cell_type": "code",
   "execution_count": 255,
   "metadata": {},
   "outputs": [],
   "source": [
    "def xy_segment_info(s_i, df):\n",
    "    # get corresponding segment of s_i from df\n",
    "    idx_df = [i for i in range(len(df)) if s_i.within(Polygon(df[\"box_coord\"].iloc[i]))]\n",
    "    row = df.iloc[idx_df].squeeze()\n",
    "\n",
    "    # Calculate the fraction of the total distance\n",
    "    dist_along_segment = row[\"upDist\"] - s_i.y\n",
    "\n",
    "    return {\n",
    "        \"pid_from\": row[\"pid_from\"],\n",
    "        \"pid_to\": row[\"pid_to\"],\n",
    "        \"dist_along_segment\": dist_along_segment,\n",
    "        \"length\": row[\"Length\"],\n",
    "    }"
   ]
  },
  {
   "cell_type": "code",
   "execution_count": 256,
   "metadata": {},
   "outputs": [
    {
     "data": {
      "text/plain": [
       "[{'pid_from': 4,\n",
       "  'pid_to': 2,\n",
       "  'dist_along_segment': 0.49635960418034575,\n",
       "  'length': 0.980140695953742},\n",
       " {'pid_from': 2,\n",
       "  'pid_to': 1,\n",
       "  'dist_along_segment': 0.989954848426518,\n",
       "  'length': 1.0},\n",
       " {'pid_from': 3,\n",
       "  'pid_to': 4,\n",
       "  'dist_along_segment': 0.2966548873453343,\n",
       "  'length': 1.052507581049577}]"
      ]
     },
     "execution_count": 256,
     "metadata": {},
     "output_type": "execute_result"
    }
   ],
   "source": [
    "si_info = [xy_segment_info(s_i, df) for s_i in s_t]\n",
    "si_info"
   ]
  },
  {
   "cell_type": "code",
   "execution_count": 259,
   "metadata": {},
   "outputs": [
    {
     "data": {
      "text/plain": [
       "array([[0.        , 1.47373594, 1.2522123 ],\n",
       "       [1.47373594, 0.        , 2.72594824],\n",
       "       [1.2522123 , 2.72594824, 0.        ]])"
      ]
     },
     "execution_count": 259,
     "metadata": {},
     "output_type": "execute_result"
    }
   ],
   "source": [
    "h_ij"
   ]
  },
  {
   "cell_type": "code",
   "execution_count": null,
   "metadata": {},
   "outputs": [
    {
     "data": {
      "text/plain": [
       "<networkx.classes.graph.Graph at 0x1a9ca36f5e0>"
      ]
     },
     "metadata": {},
     "output_type": "display_data"
    }
   ],
   "source": [
    "import networkx as nx\n",
    "\n",
    "\n",
    "# encode as networkx object and plot\n",
    "G = nx.Graph()\n",
    "G.add_weighted_edges_from(\n",
    "    list(zip(shapefile.pid_from, shapefile.pid_to, shapefile.Length))\n",
    ")\n",
    "nx.shortest_path_length(G, source=0, weight=\"weight\")"
   ]
  },
  {
   "cell_type": "code",
   "execution_count": null,
   "metadata": {},
   "outputs": [
    {
     "data": {
      "text/plain": [
       "{0: 0,\n",
       " 3: 0.915953405248001,\n",
       " 4: 1.968460986297578,\n",
       " 2: 2.94860168225132,\n",
       " 1: 3.94860168225132}"
      ]
     },
     "metadata": {},
     "output_type": "display_data"
    }
   ],
   "source": [
    "# encode as networkx object and plot\n",
    "DiG = nx.DiGraph()\n",
    "DiG.add_weighted_edges_from(\n",
    "    list(zip(shapefile.pid_from, shapefile.pid_to, shapefile.Length))\n",
    ")\n",
    "nx.shortest_path_length(DiG, source=0, weight=\"weight\")"
   ]
  },
  {
   "cell_type": "code",
   "execution_count": null,
   "metadata": {},
   "outputs": [],
   "source": [
    "def is_flow_connected_directed(pid_from_1, pid_from_2):\n",
    "    try:\n",
    "        nx.shortest_path_length(\n",
    "            DiG, source=pid_from_1, target=pid_from_2, weight=\"weight\"\n",
    "        )\n",
    "        return True\n",
    "    except nx.NetworkXNoPath:\n",
    "        return False\n",
    "\n",
    "\n",
    "def is_flow_connected(pid_from_1, pid_from_2):\n",
    "    return any(\n",
    "        [\n",
    "            is_flow_connected_directed(pid_from_1, pid_from_2),\n",
    "            is_flow_connected_directed(pid_from_2, pid_from_1),\n",
    "        ]\n",
    "    )"
   ]
  },
  {
   "cell_type": "code",
   "execution_count": null,
   "metadata": {},
   "outputs": [
    {
     "data": {
      "text/plain": [
       "1.2522122978845884"
      ]
     },
     "metadata": {},
     "output_type": "display_data"
    }
   ],
   "source": [
    "point_1_idx = 2\n",
    "point_2_idx = 0\n",
    "\n",
    "# first s_i point, get pid_to (most downstream)\n",
    "pid_from_1 = si_info[point_1_idx][\"pid_from\"]\n",
    "pid_to_1 = si_info[point_1_idx][\"pid_to\"]\n",
    "\n",
    "# second_i point, get pid_from (most upstream)\n",
    "pid_from_2 = si_info[point_2_idx][\"pid_from\"]\n",
    "\n",
    "if is_flow_connected(pid_from_1, pid_from_2):  ### FIXME get most upstream point\n",
    "    # get in_between_dist\n",
    "    in_between_dict = nx.shortest_path_length(DiG, source=pid_to_1, weight=\"weight\")\n",
    "\n",
    "    # if not flow connected, return zero\n",
    "    if pid_from_2 not in in_between_dict.keys():\n",
    "        pass\n",
    "\n",
    "    in_between_dist = in_between_dict[pid_from_2]\n",
    "\n",
    "    # first s_i point, calculate distance from pid_to (most downstream) to the point\n",
    "    dist_bottom_to_pt_1 = (\n",
    "        si_info[point_1_idx][\"length\"] - si_info[point_1_idx][\"dist_along_segment\"]\n",
    "    )\n",
    "\n",
    "    # second s_i point, calculate distance from pid_from (most upstrem) to the point\n",
    "    dist_top_to_pt_2 = si_info[point_2_idx][\"dist_along_segment\"]\n",
    "\n",
    "    stream_dist = in_between_dist + dist_bottom_to_pt_1 + dist_top_to_pt_2\n",
    "\n",
    "    # make symmetric dist\n",
    "\n",
    "#### OTHERWISE, use non directed graph and take away different distances\n",
    "\n",
    "\n",
    "stream_dist"
   ]
  },
  {
   "cell_type": "code",
   "execution_count": null,
   "metadata": {},
   "outputs": [],
   "source": []
  },
  {
   "cell_type": "code",
   "execution_count": null,
   "metadata": {},
   "outputs": [],
   "source": []
  },
  {
   "cell_type": "code",
   "execution_count": null,
   "metadata": {},
   "outputs": [],
   "source": []
  },
  {
   "cell_type": "code",
   "execution_count": 45,
   "metadata": {},
   "outputs": [
    {
     "data": {
      "image/png": "[encoded data removed]",
      "text/plain": [
       "<Figure size 640x480 with 1 Axes>"
      ]
     },
     "metadata": {},
     "output_type": "display_data"
    }
   ],
   "source": [
    "ax = shapefile.plot()\n",
    "plt.scatter([i[0] for i in geo_coords], [i[1] for i in geo_coords])\n",
    "plt.show()"
   ]
  },
  {
   "cell_type": "code",
   "execution_count": 116,
   "metadata": {},
   "outputs": [],
   "source": [
    "from gstools import SRF, Gaussian\n",
    "\n",
    "# get bounding box for geographic space\n",
    "flatten_tuples = [t for tuples_list in df[\"points\"] for t in tuples_list]\n",
    "x_values, y_values = zip(*flatten_tuples)\n",
    "\n",
    "# create reference covariates\n",
    "model = Gaussian(dim=2, var=1, len_scale=1)\n",
    "srf = SRF(model, seed=10)\n",
    "\n",
    "x_field = np.arange(min(x_values), max(x_values), 0.01)\n",
    "y_field = np.arange(min(y_values), max(y_values), 0.01)\n",
    "\n",
    "field = srf.structured([x_field, y_field])"
   ]
  },
  {
   "cell_type": "code",
   "execution_count": 117,
   "metadata": {},
   "outputs": [
    {
     "data": {
      "image/png": "[encoded data removed]",
      "text/plain": [
       "<Figure size 640x480 with 1 Axes>"
      ]
     },
     "metadata": {},
     "output_type": "display_data"
    }
   ],
   "source": [
    "fig, ax = plt.subplots()\n",
    "ax.imshow(\n",
    "    field.T,\n",
    "    origin=\"lower\",\n",
    "    extent=(min(x_values), max(x_values), min(y_values), max(y_values)),\n",
    ")\n",
    "plt.scatter([i[0] for i in geo_coords], [i[1] for i in geo_coords])\n",
    "plt.show()"
   ]
  },
  {
   "cell_type": "code",
   "execution_count": 167,
   "metadata": {},
   "outputs": [],
   "source": [
    "# implement model -- set parameters\n",
    "T = 10\n",
    "S = 3\n",
    "p = 1\n",
    "\n",
    "params = {\n",
    "    \"beta_0\": 2.0,\n",
    "    \"beta_1\": 1.0,\n",
    "    \"sigma_0\": 0.02,\n",
    "    \"sigma_1\": 0.25,\n",
    "    \"alpha\": 1.75,\n",
    "    \"phi\": 0.5,\n",
    "}"
   ]
  },
  {
   "cell_type": "code",
   "execution_count": 195,
   "metadata": {},
   "outputs": [
    {
     "data": {
      "text/plain": [
       "array([-0.6169303 ,  0.31363873, -0.26148306])"
      ]
     },
     "execution_count": 195,
     "metadata": {},
     "output_type": "execute_result"
    }
   ],
   "source": [
    "# sample from covariate values\n",
    "covariates = np.array([float(srf.structured([x, y]).squeeze()) for x, y in geo_coords])\n",
    "covariates"
   ]
  },
  {
   "cell_type": "code",
   "execution_count": 196,
   "metadata": {},
   "outputs": [
    {
     "data": {
      "text/plain": [
       "tensor([[ 1.0000, -0.6169],\n",
       "        [ 1.0000,  0.3136],\n",
       "        [ 1.0000, -0.2615]])"
      ]
     },
     "execution_count": 196,
     "metadata": {},
     "output_type": "execute_result"
    }
   ],
   "source": [
    "X_1 = torch.stack([torch.tensor(np.ones(S)), torch.tensor(covariates)]).t().float()\n",
    "X_1"
   ]
  },
  {
   "cell_type": "code",
   "execution_count": 202,
   "metadata": {},
   "outputs": [
    {
     "data": {
      "text/plain": [
       "tensor([2., 1.])"
      ]
     },
     "execution_count": 202,
     "metadata": {},
     "output_type": "execute_result"
    }
   ],
   "source": [
    "beta = torch.tensor([params[\"beta_0\"], params[\"beta_1\"]])\n",
    "beta"
   ]
  },
  {
   "cell_type": "code",
   "execution_count": 203,
   "metadata": {},
   "outputs": [
    {
     "data": {
      "text/plain": [
       "tensor([1.3831, 2.3136, 1.7385])"
      ]
     },
     "execution_count": 203,
     "metadata": {},
     "output_type": "execute_result"
    }
   ],
   "source": [
    "# mean response\n",
    "X_t_beta = torch.matmul(X_1, beta)\n",
    "X_t_beta"
   ]
  },
  {
   "cell_type": "code",
   "execution_count": 198,
   "metadata": {},
   "outputs": [
    {
     "data": {
      "text/plain": [
       "tensor([[0.0625, 0.0269, 0.0306],\n",
       "        [0.0269, 0.0625, 0.0132],\n",
       "        [0.0306, 0.0132, 0.0625]], dtype=torch.float64)"
      ]
     },
     "execution_count": 198,
     "metadata": {},
     "output_type": "execute_result"
    }
   ],
   "source": [
    "# zero mean random variable, spatially dependent\n",
    "SIGMA = (params[\"sigma_1\"] ** 2) * np.exp(-h_ij / params[\"alpha\"])\n",
    "SIGMA = torch.tensor(SIGMA)\n",
    "SIGMA"
   ]
  },
  {
   "cell_type": "code",
   "execution_count": 207,
   "metadata": {},
   "outputs": [],
   "source": [
    "# independent noise\n",
    "cov = torch.tensor((params[\"sigma_0\"] ** 2) * np.identity(S)) + SIGMA"
   ]
  },
  {
   "cell_type": "code",
   "execution_count": 211,
   "metadata": {},
   "outputs": [
    {
     "data": {
      "text/plain": [
       "tensor([1.4295, 2.1354, 1.4860])"
      ]
     },
     "execution_count": 211,
     "metadata": {},
     "output_type": "execute_result"
    }
   ],
   "source": [
    "from torch.distributions.multivariate_normal import MultivariateNormal\n",
    "\n",
    "distrib = MultivariateNormal(loc=X_t_beta, covariance_matrix=cov.float())\n",
    "y1 = distrib.rsample()\n",
    "y1"
   ]
  },
  {
   "cell_type": "code",
   "execution_count": 217,
   "metadata": {},
   "outputs": [
    {
     "data": {
      "text/plain": [
       "tensor([[0.5000, 0.0000, 0.0000],\n",
       "        [0.0000, 0.5000, 0.0000],\n",
       "        [0.0000, 0.0000, 0.5000]])"
      ]
     },
     "execution_count": 217,
     "metadata": {},
     "output_type": "execute_result"
    }
   ],
   "source": [
    "# transition matrix\n",
    "PHI = torch.tensor(params[\"phi\"] * np.identity(S)).float()\n",
    "PHI"
   ]
  },
  {
   "cell_type": "code",
   "execution_count": 226,
   "metadata": {},
   "outputs": [],
   "source": [
    "y_t_minus_1 = y1\n",
    "X_t_minus_1_beta = X_t_beta  # assume fixed for all t, in this example\n",
    "\n",
    "y = y1\n",
    "\n",
    "for t in range(1, T):\n",
    "    mu_t = X_t_beta + torch.matmul(PHI, y_t_minus_1 - X_t_minus_1_beta)\n",
    "    distrib = MultivariateNormal(loc=mu_t, covariance_matrix=cov.float())\n",
    "    y_t = distrib.rsample()\n",
    "\n",
    "    y = torch.concat([y, y_t])\n",
    "    y_t_minus_1 = y_t"
   ]
  },
  {
   "cell_type": "code",
   "execution_count": 227,
   "metadata": {},
   "outputs": [
    {
     "data": {
      "text/plain": [
       "tensor([1.1344, 2.2652, 1.2914, 1.7141, 2.4238, 2.2781, 1.3430, 2.1860, 2.1145,\n",
       "        1.7693, 2.5683, 2.1675, 1.2174, 2.0566, 1.8388, 1.2711, 2.3781, 1.5542,\n",
       "        1.3536, 2.4000, 1.9223, 1.7035, 2.3589, 2.0143, 1.2242, 2.3603, 1.4980,\n",
       "        1.0990, 2.5295, 1.5559])"
      ]
     },
     "execution_count": 227,
     "metadata": {},
     "output_type": "execute_result"
    }
   ],
   "source": [
    "y"
   ]
  },
  {
   "cell_type": "code",
   "execution_count": 238,
   "metadata": {},
   "outputs": [
    {
     "data": {
      "text/plain": [
       "<Axes: >"
      ]
     },
     "execution_count": 238,
     "metadata": {},
     "output_type": "execute_result"
    },
    {
     "data": {
      "image/png": "[encoded data removed]",
      "text/plain": [
       "<Figure size 640x480 with 1 Axes>"
      ]
     },
     "metadata": {},
     "output_type": "display_data"
    }
   ],
   "source": [
    "pd.DataFrame(y.reshape(T, S).numpy()).plot()"
   ]
  },
  {
   "cell_type": "code",
   "execution_count": null,
   "metadata": {},
   "outputs": [],
   "source": [
    "# how to implement this in codebase\n",
    "\n",
    "# just Gaussian process based on stream distance (spatial)\n",
    "\n",
    "# we have generative model, need likelihood (pyro? -> have a way to test it. In pure python, write down likelihood. Compare same data)\n",
    "\n",
    "\n",
    "# pyro -> once the generator is written, pyro gives likelihood for free\n",
    "\n",
    "# likelihood is the factorised Gaussian, uncorrelated errors"
   ]
  },
  {
   "cell_type": "code",
   "execution_count": null,
   "metadata": {},
   "outputs": [],
   "source": []
  },
  {
   "cell_type": "code",
   "execution_count": null,
   "metadata": {},
   "outputs": [],
   "source": []
  },
  {
   "cell_type": "code",
   "execution_count": null,
   "metadata": {},
   "outputs": [],
   "source": []
  },
  {
   "cell_type": "code",
   "execution_count": null,
   "metadata": {},
   "outputs": [],
   "source": [
    "# stochastic volatility, environmental variables exhibit this. high-variability/low-variability -> maybe a generalisation\n",
    "# first and second order differencing (michael stein, slides) -> references"
   ]
  },
  {
   "attachments": {},
   "cell_type": "markdown",
   "metadata": {},
   "source": [
    "## River as graph (NetworkX)"
   ]
  },
  {
   "cell_type": "code",
   "execution_count": 118,
   "metadata": {},
   "outputs": [
    {
     "name": "stderr",
     "output_type": "stream",
     "text": [
      "C:\\Users\\n10907700\\AppData\\Local\\Temp\\ipykernel_11216\\1569939559.py:11: DeprecationWarning: `alltrue` is deprecated as of NumPy 1.25.0, and will be removed in NumPy 2.0. Please use `all` instead.\n",
      "  nx.draw_networkx_edges(\n"
     ]
    },
    {
     "data": {
      "image/png": "[encoded data removed]",
      "text/plain": [
       "<Figure size 640x480 with 1 Axes>"
      ]
     },
     "metadata": {},
     "output_type": "display_data"
    }
   ],
   "source": [
    "import networkx as nx\n",
    "\n",
    "# encode as networkx object and plot\n",
    "G = nx.DiGraph()\n",
    "G.add_weighted_edges_from(\n",
    "    list(zip(shapefile.pid_from, shapefile.pid_to, shapefile.addfunccol * 10))\n",
    ")\n",
    "# adding edges in the form: G.add_weighted_edges_from([(1, 2, 0.5), (3, 1, 1.75)])\n",
    "pos = nx.spring_layout(G)\n",
    "widths = nx.get_edge_attributes(G, \"weight\")\n",
    "nx.draw_networkx_edges(\n",
    "    G,\n",
    "    pos,\n",
    "    edgelist=widths.keys(),\n",
    "    width=list(widths.values()),\n",
    "    edge_color=\"darkblue\",\n",
    "    alpha=1,\n",
    ")\n",
    "plt.show()\n",
    "# nodelist = G.nodes()\n",
    "# nx.draw_networkx_nodes(G,pos,\n",
    "#                        nodelist=nodelist,\n",
    "#                        node_size=1500,\n",
    "#                        node_color='black',\n",
    "#                        alpha=0.7)\n",
    "# nx.draw_networkx_labels(G, pos=pos,\n",
    "#                         labels=dict(zip(nodelist,nodelist)),\n",
    "#                         font_color='white')"
   ]
  },
  {
   "cell_type": "code",
   "execution_count": null,
   "metadata": {},
   "outputs": [],
   "source": []
  }
 ],
 "metadata": {
  "kernelspec": {
   "display_name": "dad_vtorch",
   "language": "python",
   "name": "python3"
  },
  "language_info": {
   "codemirror_mode": {
    "name": "ipython",
    "version": 3
   },
   "file_extension": ".py",
   "mimetype": "text/x-python",
   "name": "python",
   "nbconvert_exporter": "python",
   "pygments_lexer": "ipython3",
   "version": "3.10.11"
  },
  "orig_nbformat": 4
 },
 "nbformat": 4,
 "nbformat_minor": 2
}
